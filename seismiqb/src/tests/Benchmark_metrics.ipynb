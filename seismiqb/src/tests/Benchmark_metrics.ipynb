{
 "cells": [
  {
   "cell_type": "markdown",
   "metadata": {},
   "source": [
    "# Old metrics benchmark\n",
    "\n",
    "This notebook shows the improvements in speed of new metrics (#47) against the old ones"
   ]
  },
  {
   "cell_type": "code",
   "execution_count": 1,
   "metadata": {},
   "outputs": [],
   "source": [
    "%load_ext autoreload\n",
    "%autoreload 2\n",
    "\n",
    "# Necessary imports\n",
    "import os\n",
    "import sys\n",
    "import warnings\n",
    "\n",
    "import numpy as np\n",
    "import cupy as cp\n",
    "\n",
    "from tqdm.auto import tqdm\n",
    "import matplotlib.pyplot as plt\n",
    "warnings.filterwarnings(\"ignore\")\n",
    "\n",
    "sys.path.insert(0, '../../..')\n",
    "from seismiqb import Horizon, SeismicGeometry\n",
    "from seismiqb import plot_image, plot_loss, METRIC_CMAP\n",
    "\n",
    "from seismiqb.src.metrics import smooth_out"
   ]
  },
  {
   "cell_type": "markdown",
   "metadata": {},
   "source": [
    "# Load geometry and horizon"
   ]
  },
  {
   "cell_type": "code",
   "execution_count": 2,
   "metadata": {},
   "outputs": [],
   "source": [
    "cube_path = '/data/seismic_data/seismic_interpretation/CUBE_01_ETP/amplitudes_01_ETP.hdf5'\n",
    "horizon_path = '/data/seismic_data/seismic_interpretation/CUBE_01_ETP/INPUTS/HORIZONS/RAW/etp_BP12_anon'\n",
    "\n",
    "geometry = SeismicGeometry(cube_path)\n",
    "horizon = Horizon(horizon_path, geometry=geometry)"
   ]
  },
  {
   "cell_type": "markdown",
   "metadata": {},
   "source": [
    "# Horizon metrics\n",
    "\n",
    "### Load data along horizon"
   ]
  },
  {
   "cell_type": "code",
   "execution_count": 3,
   "metadata": {},
   "outputs": [],
   "source": [
    "from seismiqb import HorizonMetrics as HMOLD\n",
    "from seismiqb.src.new_metrics import HorizonMetrics as HMNEW"
   ]
  },
  {
   "cell_type": "code",
   "execution_count": 4,
   "metadata": {},
   "outputs": [
    {
     "name": "stdout",
     "output_type": "stream",
     "text": [
      "CPU times: user 3.07 s, sys: 1.07 s, total: 4.14 s\n",
      "Wall time: 4.14 s\n"
     ]
    }
   ],
   "source": [
    "%%time\n",
    "hmold = HMOLD(horizon)\n",
    "data = hmold.data"
   ]
  },
  {
   "cell_type": "code",
   "execution_count": 5,
   "metadata": {},
   "outputs": [
    {
     "name": "stdout",
     "output_type": "stream",
     "text": [
      "CPU times: user 3.07 s, sys: 1.06 s, total: 4.12 s\n",
      "Wall time: 4.12 s\n"
     ]
    }
   ],
   "source": [
    "%%time\n",
    "hmnew = HMNEW(horizon)\n",
    "data = hmnew.data"
   ]
  },
  {
   "cell_type": "markdown",
   "metadata": {},
   "source": [
    "### Local corrs"
   ]
  },
  {
   "cell_type": "code",
   "execution_count": 6,
   "metadata": {},
   "outputs": [
    {
     "name": "stdout",
     "output_type": "stream",
     "text": [
      "CPU times: user 6min 34s, sys: 1.84 s, total: 6min 36s\n",
      "Wall time: 8.27 s\n",
      "CPU times: user 1.84 s, sys: 1.03 s, total: 2.87 s\n",
      "Wall time: 8.64 s\n",
      "CPU times: user 493 ms, sys: 419 ms, total: 913 ms\n",
      "Wall time: 1.21 s\n"
     ]
    },
    {
     "data": {
      "text/plain": [
       "(4.4382989036859414e-08, 3.7101049080114866e-08)"
      ]
     },
     "execution_count": 6,
     "metadata": {},
     "output_type": "execute_result"
    }
   ],
   "source": [
    "%time old_lc = hmold.evaluate('local_corrs', kernel_size=3, reduce_func='nanmean')\n",
    "%time new_lc_cpu = hmnew.evaluate('local_corrs', kernel_size=3, agg='nanmean')\n",
    "%time new_lc_gpu = hmnew.evaluate('local_corrs', kernel_size=3, agg='nanmean', device='gpu')\n",
    "\n",
    "np.nanmean(np.abs(old_lc - new_lc_gpu)), np.nanstd(np.abs(old_lc - new_lc_gpu))"
   ]
  },
  {
   "cell_type": "markdown",
   "metadata": {},
   "source": [
    "### Support corrs"
   ]
  },
  {
   "cell_type": "code",
   "execution_count": 7,
   "metadata": {},
   "outputs": [
    {
     "name": "stdout",
     "output_type": "stream",
     "text": [
      "100\n",
      "CPU times: user 27.1 s, sys: 14.3 s, total: 41.4 s\n",
      "Wall time: 41.4 s\n",
      "CPU times: user 14.9 s, sys: 7.04 s, total: 22 s\n",
      "Wall time: 22 s\n",
      "CPU times: user 448 ms, sys: 327 ms, total: 775 ms\n",
      "Wall time: 821 ms\n"
     ]
    },
    {
     "data": {
      "text/plain": [
       "(1.492855259786126e-08, 1.7873892629261548e-08)"
      ]
     },
     "execution_count": 7,
     "metadata": {},
     "output_type": "execute_result"
    }
   ],
   "source": [
    "supports = [[item, item] for item in range(555, 955, 4)]\n",
    "print(len(supports))\n",
    "\n",
    "%time old_corrs = hmold.evaluate('support_corrs', supports=supports, plot=False)\n",
    "%time new_corrs_cpu = hmnew.evaluate('support_corrs', supports=supports, plot=False)\n",
    "%time new_corrs_gpu = hmnew.evaluate('support_corrs', supports=supports, device='gpu', plot=False)\n",
    "\n",
    "np.nanmean(np.abs(old_corrs - new_corrs_gpu)), np.nanstd(np.abs(old_corrs - new_corrs_gpu))"
   ]
  },
  {
   "cell_type": "markdown",
   "metadata": {},
   "source": [
    "### Support crosscorrs"
   ]
  },
  {
   "cell_type": "code",
   "execution_count": 8,
   "metadata": {},
   "outputs": [
    {
     "name": "stdout",
     "output_type": "stream",
     "text": [
      "100\n",
      "CPU times: user 8min 54s, sys: 4min 53s, total: 13min 48s\n",
      "Wall time: 13min 48s\n",
      "CPU times: user 4min 45s, sys: 2min 27s, total: 7min 13s\n",
      "Wall time: 7min 13s\n",
      "CPU times: user 5.13 s, sys: 3.58 s, total: 8.71 s\n",
      "Wall time: 8.81 s\n"
     ]
    },
    {
     "data": {
      "text/plain": [
       "(0.014807187488141011, 0.03468628590993994)"
      ]
     },
     "execution_count": 8,
     "metadata": {},
     "output_type": "execute_result"
    }
   ],
   "source": [
    "supports = [[item, item] for item in range(555, 955, 4)]\n",
    "print(len(supports))\n",
    "\n",
    "%time old_cc = hmold.evaluate('support_crosscorrs', supports=supports, agg='nanmean', plot=False)\n",
    "%time new_cc_cpu = hmnew.evaluate('support_crosscorrs', supports=supports, agg='nanmean', plot=False)\n",
    "%time new_cc_gpu = hmnew.evaluate('support_crosscorrs', supports=supports, agg='nanmean', device='gpu', plot=False)\n",
    "\n",
    "np.nanmean(np.abs(old_cc - new_cc_cpu)), np.nanstd(np.abs(old_cc - new_cc_cpu))"
   ]
  },
  {
   "cell_type": "markdown",
   "metadata": {},
   "source": [
    "### Instantaneous phases"
   ]
  },
  {
   "cell_type": "code",
   "execution_count": 9,
   "metadata": {},
   "outputs": [
    {
     "name": "stdout",
     "output_type": "stream",
     "text": [
      "CPU times: user 11.3 s, sys: 1.3 s, total: 12.6 s\n",
      "Wall time: 12.6 s\n",
      "CPU times: user 10.7 s, sys: 989 ms, total: 11.7 s\n",
      "Wall time: 11.7 s\n",
      "CPU times: user 389 ms, sys: 155 ms, total: 543 ms\n",
      "Wall time: 620 ms\n"
     ]
    },
    {
     "data": {
      "text/plain": [
       "(2.0162179065792003, 1.0635306250595937)"
      ]
     },
     "execution_count": 9,
     "metadata": {},
     "output_type": "execute_result"
    }
   ],
   "source": [
    "%time old_ip = hmold.evaluate('instantaneous_phase', plot=False)\n",
    "%time new_ip_cpu = hmnew.evaluate('instantaneous_phase', plot=False)\n",
    "%time new_ip_gpu = hmnew.evaluate('instantaneous_phase', device='gpu', plot=False)\n",
    "\n",
    "np.nanmean(np.abs(old_ip - new_ip_cpu)), np.nanstd(np.abs(old_ip - new_ip_cpu))"
   ]
  },
  {
   "cell_type": "markdown",
   "metadata": {},
   "source": [
    "# Geometry metrics\n",
    "\n",
    "### Load histogram matrices"
   ]
  },
  {
   "cell_type": "code",
   "execution_count": 10,
   "metadata": {},
   "outputs": [],
   "source": [
    "from seismiqb import GeometryMetrics as GMOLD\n",
    "from seismiqb.src.new_metrics import GeometryMetrics as GMNEW"
   ]
  },
  {
   "cell_type": "code",
   "execution_count": 11,
   "metadata": {},
   "outputs": [
    {
     "name": "stdout",
     "output_type": "stream",
     "text": [
      "CPU times: user 242 ms, sys: 392 ms, total: 634 ms\n",
      "Wall time: 632 ms\n"
     ]
    }
   ],
   "source": [
    "%%time\n",
    "gmold = GMOLD(geometry)\n",
    "data = gmold.data\n",
    "probs = gmold.probs"
   ]
  },
  {
   "cell_type": "code",
   "execution_count": 12,
   "metadata": {},
   "outputs": [
    {
     "name": "stdout",
     "output_type": "stream",
     "text": [
      "CPU times: user 251 ms, sys: 384 ms, total: 635 ms\n",
      "Wall time: 633 ms\n"
     ]
    }
   ],
   "source": [
    "%%time\n",
    "gmnew = GMNEW(geometry)\n",
    "data = gmnew.data\n",
    "probs = gmnew.probs"
   ]
  },
  {
   "cell_type": "markdown",
   "metadata": {},
   "source": [
    "### Support metrics"
   ]
  },
  {
   "cell_type": "code",
   "execution_count": 13,
   "metadata": {},
   "outputs": [
    {
     "name": "stdout",
     "output_type": "stream",
     "text": [
      "Number of supports: 40\n",
      "\n",
      "support_corrs        ::: True\n",
      "17.6 s ± 2.31 ms per loop (mean ± std. dev. of 2 runs, 2 loops each)\n",
      "14.9 s ± 5.94 ms per loop (mean ± std. dev. of 2 runs, 2 loops each)\n",
      "581 ms ± 13.8 ms per loop (mean ± std. dev. of 2 runs, 2 loops each)\n",
      "\n",
      "support_btch         ::: True\n",
      "24.7 s ± 34.8 ms per loop (mean ± std. dev. of 2 runs, 2 loops each)\n",
      "22.3 s ± 11.9 ms per loop (mean ± std. dev. of 2 runs, 2 loops each)\n",
      "696 ms ± 25.6 ms per loop (mean ± std. dev. of 2 runs, 2 loops each)\n",
      "\n",
      "support_kl           ::: True\n",
      "49.1 s ± 10.4 ms per loop (mean ± std. dev. of 2 runs, 2 loops each)\n",
      "46.8 s ± 4.26 ms per loop (mean ± std. dev. of 2 runs, 2 loops each)\n",
      "1.09 s ± 20.5 ms per loop (mean ± std. dev. of 2 runs, 2 loops each)\n",
      "\n",
      "support_js           ::: True\n",
      "1min 51s ± 13.4 ms per loop (mean ± std. dev. of 2 runs, 2 loops each)\n",
      "1min 49s ± 16.2 ms per loop (mean ± std. dev. of 2 runs, 2 loops each)\n",
      "2.16 s ± 18.7 ms per loop (mean ± std. dev. of 2 runs, 2 loops each)\n",
      "\n",
      "support_hellinger    ::: True\n",
      "27.4 s ± 35.8 ms per loop (mean ± std. dev. of 2 runs, 2 loops each)\n",
      "25.3 s ± 2.66 ms per loop (mean ± std. dev. of 2 runs, 2 loops each)\n",
      "2.14 s ± 19.5 ms per loop (mean ± std. dev. of 2 runs, 2 loops each)\n",
      "\n",
      "support_tv           ::: True\n",
      "24.7 s ± 28.7 ms per loop (mean ± std. dev. of 2 runs, 2 loops each)\n",
      "22.6 s ± 5.87 ms per loop (mean ± std. dev. of 2 runs, 2 loops each)\n",
      "673 ms ± 1.28 ms per loop (mean ± std. dev. of 2 runs, 2 loops each)\n"
     ]
    }
   ],
   "source": [
    "S = [[item, item] for item in range(555, 755, 5)]\n",
    "print('Number of supports:', len(S))\n",
    "\n",
    "lst = [item for item in GMNEW.AVAILABLE_METRICS if 'support' in item]\n",
    "\n",
    "for metric_name in lst:\n",
    "    old_value = gmold.evaluate(metric_name, supports=S)\n",
    "    new_value_cpu = gmnew.evaluate(metric_name, supports=S, device='cpu')\n",
    "    new_value_gpu = gmnew.evaluate(metric_name, supports=S, device='gpu')\n",
    "    flag = np.isclose(old_value, new_value_cpu, equal_nan=True).all()\n",
    "    print(f'\\n{metric_name:20} ::: {flag}')\n",
    "    if not flag:\n",
    "        print(f'    Difference: {np.nanmean(np.abs(old_value - new_value_cpu))}')\n",
    "\n",
    "    %timeit -n 2 -r 2 old_value = gmold.evaluate(metric_name, supports=S)\n",
    "    %timeit -n 2 -r 2 new_value_cpu = gmnew.evaluate(metric_name, supports=S, device='cpu', amortize=True)\n",
    "    %timeit -n 2 -r 2 new_value_gpu = gmnew.evaluate(metric_name, supports=S, device='gpu')"
   ]
  },
  {
   "cell_type": "markdown",
   "metadata": {},
   "source": [
    "### Local metrics"
   ]
  },
  {
   "cell_type": "code",
   "execution_count": 14,
   "metadata": {},
   "outputs": [
    {
     "name": "stdout",
     "output_type": "stream",
     "text": [
      "\n",
      "local_corrs          ::: True\n",
      "15.7 s ± 155 ms per loop (mean ± std. dev. of 2 runs, 2 loops each)\n",
      "10 s ± 3.14 ms per loop (mean ± std. dev. of 2 runs, 2 loops each)\n",
      "478 ms ± 7.93 ms per loop (mean ± std. dev. of 2 runs, 2 loops each)\n",
      "\n",
      "local_btch           ::: True\n",
      "14.1 s ± 75.9 ms per loop (mean ± std. dev. of 2 runs, 2 loops each)\n",
      "14.3 s ± 1.11 ms per loop (mean ± std. dev. of 2 runs, 2 loops each)\n",
      "569 ms ± 25.5 ms per loop (mean ± std. dev. of 2 runs, 2 loops each)\n",
      "\n",
      "local_kl             ::: False\n",
      "    Difference: 0.001375491291533084\n",
      "13.9 s ± 30.5 ms per loop (mean ± std. dev. of 2 runs, 2 loops each)\n",
      "26.2 s ± 10.5 ms per loop (mean ± std. dev. of 2 runs, 2 loops each)\n",
      "801 ms ± 9.97 ms per loop (mean ± std. dev. of 2 runs, 2 loops each)\n",
      "\n",
      "local_js             ::: True\n",
      "53 s ± 129 ms per loop (mean ± std. dev. of 2 runs, 2 loops each)\n",
      "1min 19s ± 9.93 ms per loop (mean ± std. dev. of 2 runs, 2 loops each)\n",
      "1.73 s ± 36.4 ms per loop (mean ± std. dev. of 2 runs, 2 loops each)\n",
      "\n",
      "local_hellinger      ::: False\n",
      "    Difference: 0.008057324245445275\n",
      "13.9 s ± 136 ms per loop (mean ± std. dev. of 2 runs, 2 loops each)\n",
      "17.8 s ± 1.4 ms per loop (mean ± std. dev. of 2 runs, 2 loops each)\n",
      "1.51 s ± 13.4 ms per loop (mean ± std. dev. of 2 runs, 2 loops each)\n",
      "\n",
      "local_tv             ::: True\n",
      "14.1 s ± 44.1 ms per loop (mean ± std. dev. of 2 runs, 2 loops each)\n",
      "14.4 s ± 5.09 ms per loop (mean ± std. dev. of 2 runs, 2 loops each)\n",
      "556 ms ± 1.46 ms per loop (mean ± std. dev. of 2 runs, 2 loops each)\n"
     ]
    }
   ],
   "source": [
    "KS = 5\n",
    "\n",
    "lst = [item for item in GMNEW.AVAILABLE_METRICS if 'local' in item]\n",
    "\n",
    "for metric_name in lst:\n",
    "\n",
    "    old_value = gmold.evaluate(metric_name, kernel_size=KS)\n",
    "    new_value_cpu = gmnew.evaluate(metric_name, kernel_size=KS, device='cpu')\n",
    "    new_value_gpu = gmnew.evaluate(metric_name, kernel_size=KS, device='gpu')\n",
    "    flag = np.isclose(old_value, new_value_cpu, equal_nan=True).all()\n",
    "    print(f'\\n{metric_name:20} ::: {flag}')\n",
    "    if not flag:\n",
    "        print(f'    Difference: {np.nanmean(np.abs(old_value - new_value_cpu))}')\n",
    "    \n",
    "    %timeit -n 2 -r 2 old_value = gmold.evaluate(metric_name, kernel_size=KS)\n",
    "    %timeit -n 2 -r 2 new_value_cpu = gmnew.evaluate(metric_name, kernel_size=KS, device='cpu')\n",
    "    %timeit -n 2 -r 2 new_value_gpu = gmnew.evaluate(metric_name, kernel_size=KS, device='gpu')"
   ]
  }
 ],
 "metadata": {
  "kernelspec": {
   "display_name": "Python 3",
   "language": "python",
   "name": "python3"
  },
  "language_info": {
   "codemirror_mode": {
    "name": "ipython",
    "version": 3
   },
   "file_extension": ".py",
   "mimetype": "text/x-python",
   "name": "python",
   "nbconvert_exporter": "python",
   "pygments_lexer": "ipython3",
   "version": "3.6.9"
  }
 },
 "nbformat": 4,
 "nbformat_minor": 4
}
